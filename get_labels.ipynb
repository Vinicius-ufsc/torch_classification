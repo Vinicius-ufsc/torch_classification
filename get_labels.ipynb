{
 "cells": [
  {
   "cell_type": "markdown",
   "metadata": {},
   "source": [
    "----"
   ]
  },
  {
   "cell_type": "code",
   "execution_count": 1,
   "metadata": {},
   "outputs": [
    {
     "name": "stderr",
     "output_type": "stream",
     "text": [
      "100%|███████████████████████████████████████████████████████████████████████████████████| 16/16 [00:00<00:00, 85.10it/s]\n"
     ]
    },
    {
     "name": "stdout",
     "output_type": "stream",
     "text": [
      "CSV saved to /home/vinicius-cin/Datasets/DF1_16c_classification_filtered_v1/train/train.csv\n"
     ]
    },
    {
     "name": "stderr",
     "output_type": "stream",
     "text": [
      "100%|█████████████████████████████████████████████████████████████████████████████████| 16/16 [00:00<00:00, 1690.02it/s]\n"
     ]
    },
    {
     "name": "stdout",
     "output_type": "stream",
     "text": [
      "CSV saved to /home/vinicius-cin/Datasets/DF1_16c_classification_filtered_v1/test/test.csv\n"
     ]
    },
    {
     "name": "stderr",
     "output_type": "stream",
     "text": [
      "100%|█████████████████████████████████████████████████████████████████████████████████| 16/16 [00:00<00:00, 1611.45it/s]"
     ]
    },
    {
     "name": "stdout",
     "output_type": "stream",
     "text": [
      "CSV saved to /home/vinicius-cin/Datasets/DF1_16c_classification_filtered_v1/val/val.csv\n"
     ]
    },
    {
     "name": "stderr",
     "output_type": "stream",
     "text": [
      "\n"
     ]
    }
   ],
   "source": [
    "import os\n",
    "import pandas as pd\n",
    "from concurrent.futures import ThreadPoolExecutor\n",
    "from tqdm import tqdm\n",
    "\n",
    "def process_class(class_id, class_name, dataset_folder, set_):\n",
    "    class_folder = os.path.join(dataset_folder, class_name)\n",
    "    if os.path.isdir(class_folder):\n",
    "        images = os.listdir(class_folder)\n",
    "        image_paths = []\n",
    "        labels = []\n",
    "\n",
    "        for image_name in images:\n",
    "            image_relative_path = os.path.join(set_, class_name, image_name)\n",
    "            image_paths.append(image_relative_path)\n",
    "            labels.append(str(class_id))\n",
    "\n",
    "        return image_paths, labels\n",
    "    else:\n",
    "        return [], []\n",
    "\n",
    "def main():\n",
    "    root_dir = '/home/vinicius-cin/Datasets/DF1_16c_classification_filtered_v1'\n",
    "\n",
    "    # Read class names and ids\n",
    "    with open(os.path.join(root_dir, 'classes.names'), mode=\"r\") as f:\n",
    "        class_names = f.read().splitlines()\n",
    "        classes = dict(enumerate(class_names))\n",
    "    \n",
    "    with ThreadPoolExecutor(max_workers=16) as executor:  # Adjust max_workers as needed\n",
    "        for set_ in ['train', 'test', 'val']:\n",
    "            dataset_folder = os.path.join(root_dir, set_)\n",
    "            results = list(tqdm(executor.map(process_class, classes.keys(), classes.values(),\n",
    "                                              [dataset_folder] * len(classes), [set_] * len(classes)),\n",
    "                                total=len(classes)))\n",
    "\n",
    "            # Flatten the results\n",
    "            image_paths = [path for paths, _ in results for path in paths]\n",
    "            labels = [label for _, labels in results for label in labels]\n",
    "\n",
    "            # Create a DataFrame from the lists\n",
    "            df = pd.DataFrame({\"image_relative_path\": image_paths, \"label\": labels})\n",
    "\n",
    "            # Save the DataFrame to a CSV file\n",
    "            save_dir = os.path.join(root_dir, set_, f\"{set_}.csv\")\n",
    "            df.to_csv(save_dir, index=False)\n",
    "            print(f'CSV saved to {save_dir}')\n",
    "\n",
    "if __name__ == \"__main__\":\n",
    "    main()"
   ]
  },
  {
   "cell_type": "code",
   "execution_count": null,
   "metadata": {},
   "outputs": [],
   "source": []
  }
 ],
 "metadata": {
  "kernelspec": {
   "display_name": "Python 3 (ipykernel)",
   "language": "python",
   "name": "python3"
  },
  "language_info": {
   "codemirror_mode": {
    "name": "ipython",
    "version": 3
   },
   "file_extension": ".py",
   "mimetype": "text/x-python",
   "name": "python",
   "nbconvert_exporter": "python",
   "pygments_lexer": "ipython3",
   "version": "3.10.8"
  }
 },
 "nbformat": 4,
 "nbformat_minor": 4
}
